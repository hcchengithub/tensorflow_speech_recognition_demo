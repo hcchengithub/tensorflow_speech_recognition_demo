{
 "cells": [
  {
   "cell_type": "code",
   "execution_count": null,
   "metadata": {},
   "outputs": [],
   "source": [
    "# modified a little \n",
    "\n",
    "from __future__ import division, print_function, absolute_import\n",
    "import tflearn\n",
    "import speech_data\n",
    "import tensorflow as tf\n",
    "\n",
    "learning_rate = 0.0001\n",
    "training_iters = 300000  # steps\n",
    "batch_size = 64\n",
    "\n",
    "width = 20  # mfcc features\n",
    "height = 80  # (max) length of utterance\n",
    "classes = 10  # digits\n",
    "\n",
    "batch = word_batch = speech_data.mfcc_batch_generator(batch_size)\n",
    "X, Y = next(batch)\n",
    "trainX, trainY = X, Y\n",
    "testX, testY = X, Y #overfit for now\n",
    "\n",
    "# Network building\n",
    "net = tflearn.input_data([None, width, height])\n",
    "net = tflearn.lstm(net, 128, dropout=0.8)\n",
    "net = tflearn.fully_connected(net, classes, activation='softmax')\n",
    "net = tflearn.regression(net, optimizer='adam', learning_rate=learning_rate, loss='categorical_crossentropy')\n",
    "# Training\n",
    "\n",
    "### add this \"fix\" for tensorflow version errors\n",
    "col = tf.get_collection(tf.GraphKeys.TRAINABLE_VARIABLES)\n",
    "for x in col:\n",
    "    tf.add_to_collection(tf.GraphKeys.VARIABLES, x ) \n",
    "\n",
    "\n",
    "model = tflearn.DNN(net, tensorboard_verbose=0)\n",
    "while 1: #training_iters\n",
    "  model.fit(trainX, trainY, n_epoch=10, validation_set=(testX, testY), show_metric=True,\n",
    "          batch_size=batch_size)\n",
    "  _y=model.predict(X)\n",
    "model.save(\"tflearn.lstm.model\")\n",
    "print (_y)\n",
    "print (y)\n"
   ]
  }
 ],
 "metadata": {
  "kernelspec": {
   "display_name": "Python 3",
   "language": "python",
   "name": "python3"
  },
  "language_info": {
   "codemirror_mode": {
    "name": "ipython",
    "version": 3
   },
   "file_extension": ".py",
   "mimetype": "text/x-python",
   "name": "python",
   "nbconvert_exporter": "python",
   "pygments_lexer": "ipython3",
   "version": "3.6.0"
  }
 },
 "nbformat": 4,
 "nbformat_minor": 1
}
