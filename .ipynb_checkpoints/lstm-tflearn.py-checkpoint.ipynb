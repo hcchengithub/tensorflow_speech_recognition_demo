{
 "cells": [
  {
   "cell_type": "markdown",
   "metadata": {},
   "source": [
    "Siraj 的 README.md Credits 有交代，來源是 [pannouse repo](https://github.com/pannous/tensorflow-speech-recognition) \n",
    "裡面有一堆東西，將來可以一一玩玩學習學習，其中的 `lstm-tflearn.py` 正是他給 newcomers 的入門處。\n",
    "    \n",
    "比起 Siraj 的 demo.py 這個要好一點點，有下列問題要解決：\n",
    "\n",
    "- [ ] 1. while loop 也是亂寫\n",
    "- [ ] 2. Train data 跟 Test data 都是同一鍋 data 難怪要發生 overfitting\n",
    "- [ ] 3. training_iters = 300000 早就已經 overfitting 了 --> 如何用 tensorboard 觀察訓練狀況\n",
    "\n",
    "\n",
    "放棄 Siraj 的 demo.py 改玩這個 lstm-tflearn.py"
   ]
  },
  {
   "cell_type": "code",
   "execution_count": null,
   "metadata": {},
   "outputs": [],
   "source": [
    "#!/usr/bin/env python\n",
    "#!/usr/bin/env python\n",
    "import tensorflow as tf\n",
    "import tflearn\n",
    "import speech_data\n",
    "import time\n",
    "import peforth\n",
    "\n",
    "epoch_count = 10\n",
    "learning_rate = 0.0001\n",
    "training_iters = 300000  # steps\n",
    "batch_size = 64\n",
    "\n",
    "width = 20  # mfcc features\n",
    "height = 80  # (max) length of utterance\n",
    "classes = 10  # digits\n"
   ]
  },
  {
   "cell_type": "code",
   "execution_count": null,
   "metadata": {},
   "outputs": [],
   "source": [
    "batch = word_batch = speech_data.mfcc_batch_generator(batch_size)"
   ]
  },
  {
   "cell_type": "code",
   "execution_count": null,
   "metadata": {},
   "outputs": [],
   "source": [
    "\n",
    "# Network building\n",
    "net = tflearn.input_data([None, width, height])\n",
    "net = tflearn.lstm(net, 128*4, dropout=0.5)\n",
    "net = tflearn.fully_connected(net, classes, activation='softmax')\n",
    "net = tflearn.regression(net, optimizer='adam', learning_rate=learning_rate, loss='categorical_crossentropy')\n",
    "model = tflearn.DNN(net, tensorboard_verbose=0)\n",
    "\n",
    "## add this \"fix\" for tensorflow version errors\n",
    "for x in tf.get_collection(tf.GraphKeys.TRAINABLE_VARIABLES): tf.add_to_collection(tf.GraphKeys.VARIABLES, x )\n",
    "\n"
   ]
  },
  {
   "cell_type": "code",
   "execution_count": null,
   "metadata": {},
   "outputs": [],
   "source": [
    "# Training\n",
    "for i in range(1,int(training_iters/epoch_count)):\n",
    "    trainX, trainY, testX, testY = next(batch)\n",
    "    model.fit(\n",
    "        trainX,\n",
    "        trainY,\n",
    "        n_epoch=epoch_count,\n",
    "        validation_set=(testX, testY),\n",
    "        show_metric=True,\n",
    "        batch_size=batch_size)\n",
    "    # must have the saved_networks/ folder\n",
    "    training_step = i * epoch_count\n",
    "    if training_step == 100: # I want to see it w/o a long wait\n",
    "        time_stamp = int(time.time())\n",
    "        model.save(\"saved_networks/tflearn.lstm.model.\"+str(time_stamp))\n",
    "    if training_step % 2000 == 0:\n",
    "        time_stamp = int(time.time())\n",
    "        model.save(\"saved_networks/tflearn.lstm.model.\"+str(time_stamp))\n",
    "        "
   ]
  },
  {
   "cell_type": "code",
   "execution_count": null,
   "metadata": {},
   "outputs": [],
   "source": [
    "peforth.ok()"
   ]
  },
  {
   "cell_type": "code",
   "execution_count": null,
   "metadata": {},
   "outputs": [],
   "source": [
    "_y = model.predict(next(batch)[0])  # << add your own voice here\n",
    "print (_y) "
   ]
  }
 ],
 "metadata": {
  "kernelspec": {
   "display_name": "Python 3",
   "language": "python",
   "name": "python3"
  },
  "language_info": {
   "codemirror_mode": {
    "name": "ipython",
    "version": 3
   },
   "file_extension": ".py",
   "mimetype": "text/x-python",
   "name": "python",
   "nbconvert_exporter": "python",
   "pygments_lexer": "ipython3",
   "version": "3.6.0"
  }
 },
 "nbformat": 4,
 "nbformat_minor": 2
}
