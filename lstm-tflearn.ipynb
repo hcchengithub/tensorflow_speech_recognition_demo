{
 "cells": [
  {
   "cell_type": "markdown",
   "metadata": {},
   "source": [
    "Siraj 的 README.md Credits 有交代，來源是 [pannouse repo](https://github.com/pannous/tensorflow-speech-recognition) \n",
    "裡面有一堆東西，將來可以一一玩玩學習學習，其中的 `lstm-tflearn.py` 正是他給 newcomers 的入門處。\n",
    "    \n",
    "比起 Siraj 的 demo.py 這個要好一點點，有下列問題要解決：\n",
    "\n",
    "- [ ] 1. while loop 也是亂寫\n",
    "- [ ] 2. Train data 跟 Test data 都是同一鍋 data 難怪要發生 overfitting\n",
    "- [ ] 3. training_iters = 300000 早就已經 overfitting 了 --> 如何用 tensorboard 觀察訓練狀況\n",
    "\n",
    "\n",
    "放棄 Siraj 的 demo.py 改玩這個 lstm-tflearn.py"
   ]
  },
  {
   "cell_type": "code",
   "execution_count": 1,
   "metadata": {},
   "outputs": [],
   "source": [
    "#!/usr/bin/env python\n",
    "#!/usr/bin/env python\n",
    "import tensorflow as tf"
   ]
  },
  {
   "cell_type": "code",
   "execution_count": 2,
   "metadata": {},
   "outputs": [
    {
     "name": "stdout",
     "output_type": "stream",
     "text": [
      "curses is not supported on this machine (please install/reinstall curses for an optimal experience)\n"
     ]
    }
   ],
   "source": [
    "import tflearn"
   ]
  },
  {
   "cell_type": "code",
   "execution_count": 3,
   "metadata": {},
   "outputs": [
    {
     "name": "stdout",
     "output_type": "stream",
     "text": [
      "speech_data_00> "
     ]
    }
   ],
   "source": [
    "import speech_data"
   ]
  },
  {
   "cell_type": "code",
   "execution_count": 4,
   "metadata": {},
   "outputs": [],
   "source": [
    "import time\n",
    "import peforth\n",
    "\n",
    "epoch_count = 10\n",
    "learning_rate = 0.0001\n",
    "training_iters = 300000  # steps\n",
    "batch_size = 64\n",
    "\n",
    "width = 20  # mfcc features\n",
    "height = 80  # (max) length of utterance\n",
    "classes = 10  # digits"
   ]
  },
  {
   "cell_type": "code",
   "execution_count": 5,
   "metadata": {},
   "outputs": [],
   "source": [
    "batch = word_batch = speech_data.mfcc_batch_generator(batch_size)"
   ]
  },
  {
   "cell_type": "code",
   "execution_count": 6,
   "metadata": {},
   "outputs": [
    {
     "name": "stdout",
     "output_type": "stream",
     "text": [
      "WARNING:tensorflow:VARIABLES collection name is deprecated, please use GLOBAL_VARIABLES instead; VARIABLES will be removed after 2017-03-02.\n",
      "WARNING:tensorflow:VARIABLES collection name is deprecated, please use GLOBAL_VARIABLES instead; VARIABLES will be removed after 2017-03-02.\n",
      "WARNING:tensorflow:VARIABLES collection name is deprecated, please use GLOBAL_VARIABLES instead; VARIABLES will be removed after 2017-03-02.\n",
      "WARNING:tensorflow:VARIABLES collection name is deprecated, please use GLOBAL_VARIABLES instead; VARIABLES will be removed after 2017-03-02.\n"
     ]
    }
   ],
   "source": [
    "\n",
    "# Network building\n",
    "net = tflearn.input_data([None, width, height])\n",
    "net = tflearn.lstm(net, 128*4, dropout=0.8)\n",
    "net = tflearn.fully_connected(net, classes, activation='softmax')\n",
    "net = tflearn.regression(net, optimizer='adam', learning_rate=learning_rate, loss='categorical_crossentropy')\n",
    "model = tflearn.DNN(net, tensorboard_verbose=0)\n",
    "\n",
    "## add this \"fix\" for tensorflow version errors\n",
    "for x in tf.get_collection(tf.GraphKeys.TRAINABLE_VARIABLES): tf.add_to_collection(tf.GraphKeys.VARIABLES, x )\n"
   ]
  },
  {
   "cell_type": "code",
   "execution_count": 7,
   "metadata": {
    "scrolled": false
   },
   "outputs": [
    {
     "name": "stdout",
     "output_type": "stream",
     "text": [
      "restore-model \\ to restore the final model 1516057900 \n",
      "\"path\\name.wav\" predict . cr \\ to predict the given wave file \n",
      "Run \"~~~ exit\" to continue \n",
      "load> restore-model\n",
      "INFO:tensorflow:Restoring parameters from c:\\Users\\hcche\\Documents\\GitHub\\tensorflow_speech_recognition_demo\\saved_networks\\tflearn.lstm.model.1516057900\n",
      "load> ~~~ exit\n",
      "load> "
     ]
    }
   ],
   "source": [
    "# Manually load saved model and manually predict a wave file\n",
    "peforth.ok('load> ', loc=locals(),cmd='''\n",
    "    :> [0] to locals \n",
    "    marker ~~~\n",
    "    locals inport \\ get model \n",
    "    .( restore-model \\ to restore the final model 1516057900 ) cr\n",
    "    : restore-model ( -- ) // Timestamp from saved_networks\\tflearn.lstm.model.1516057900.meta \n",
    "        model :: load(\"saved_networks/tflearn.lstm.model.\"+\"1516057900\") ;\n",
    "    import librosa constant librosa // ( -- module ) \n",
    "    import numpy constant np // ( -- module )  \n",
    "    .( \"path\\\\name.wav\" predict . cr \\ to predict the given wave file ) cr \n",
    "    : predict ( pathname -- results ) // results is an array of scores of each digit 0~9\n",
    "        ( pathname ) librosa :> load(pop(),mono=True) ( y,sr )\n",
    "        librosa :> feature.mfcc(tos()[0],tos()[1]) nip ( mfcc )\n",
    "        np :> pad(tos(),((0,0),(0,80-len(tos()[0]))),mode='constant',constant_values=0) nip ( MFCC )\n",
    "        model :> predict([pop()]) ;\n",
    "    .( Run \"~~~ exit\" to continue ) cr \\ avoid jupyter 'exit' conflict \n",
    "    ''')"
   ]
  },
  {
   "cell_type": "code",
   "execution_count": null,
   "metadata": {},
   "outputs": [],
   "source": [
    "peforth.ok(cmd='.( 'exit' command to continue but are you sure you want to continue the training?  ) cr')"
   ]
  },
  {
   "cell_type": "code",
   "execution_count": null,
   "metadata": {},
   "outputs": [],
   "source": [
    "# Training\n",
    "for i in range(1,int(training_iters/epoch_count)):\n",
    "    trainX, trainY, testX, testY = next(batch)\n",
    "    model.fit(\n",
    "        trainX,\n",
    "        trainY,\n",
    "        n_epoch=epoch_count,\n",
    "        validation_set=(testX, testY),\n",
    "        show_metric=True,\n",
    "        batch_size=batch_size)\n",
    "    # must have the saved_networks/ folder\n",
    "    training_step = i * epoch_count\n",
    "    if training_step == 100: # I want to see it w/o a long wait\n",
    "        time_stamp = int(time.time())\n",
    "        model.save(\"saved_networks/tflearn.lstm.model.\"+str(time_stamp))\n",
    "    if training_step % 2000 == 0:\n",
    "        time_stamp = int(time.time())\n",
    "        model.save(\"saved_networks/tflearn.lstm.model.\"+str(time_stamp))\n",
    "        "
   ]
  },
  {
   "cell_type": "code",
   "execution_count": 11,
   "metadata": {},
   "outputs": [
    {
     "name": "stdout",
     "output_type": "stream",
     "text": [
      "loaded batch of 2160 train_files, 240 test_files\n",
      "[[ 0.07249145  0.05034124  0.39199835  0.06235743  0.08092596  0.06850597\n",
      "   0.04071332  0.07827483  0.07219983  0.0821915 ]\n",
      " [ 0.27327371  0.07073745  0.0431348   0.26834419  0.04446147  0.06223009\n",
      "   0.04096138  0.05492616  0.0785247   0.06340601]\n",
      " [ 0.05898944  0.0653505   0.03690695  0.14711709  0.14080052  0.258636\n",
      "   0.03952236  0.12874594  0.06591355  0.05801762]\n",
      " [ 0.04906204  0.07178809  0.62906533  0.04061767  0.03376167  0.04193685\n",
      "   0.0340291   0.03070006  0.04122195  0.02781727]\n",
      " [ 0.05727114  0.05281516  0.04099222  0.60353643  0.04904284  0.02926566\n",
      "   0.03639036  0.03871962  0.05217351  0.03979301]\n",
      " [ 0.03953297  0.03320847  0.02793933  0.0271824   0.02082851  0.72667605\n",
      "   0.0171543   0.01503931  0.0310707   0.06136799]\n",
      " [ 0.30066219  0.02614016  0.05200802  0.03553839  0.34469524  0.08536816\n",
      "   0.02082197  0.02833156  0.05581613  0.05061818]\n",
      " [ 0.03971265  0.03399683  0.03227011  0.68432045  0.02518806  0.04281615\n",
      "   0.03338211  0.02955185  0.0355828   0.04317901]\n",
      " [ 0.68532842  0.03641922  0.03745239  0.03523936  0.04615206  0.02532034\n",
      "   0.03861192  0.03132729  0.03263889  0.03150998]\n",
      " [ 0.02152381  0.05052574  0.04211782  0.038586    0.13365054  0.02938358\n",
      "   0.53631562  0.08291493  0.03388723  0.0310947 ]\n",
      " [ 0.11730345  0.04838994  0.04105297  0.11079824  0.08316381  0.08793597\n",
      "   0.17197412  0.16492108  0.10484238  0.06961801]\n",
      " [ 0.58341545  0.03542979  0.04562129  0.04347424  0.04303977  0.03795382\n",
      "   0.05742095  0.03751515  0.03022699  0.08590261]\n",
      " [ 0.050025    0.05527369  0.07196125  0.06879678  0.02682968  0.07395971\n",
      "   0.0403559   0.49280953  0.0598956   0.06009284]\n",
      " [ 0.03004071  0.02951045  0.02207288  0.75114268  0.02318938  0.02921638\n",
      "   0.02515449  0.02682313  0.0347017   0.02814827]\n",
      " [ 0.06139304  0.05671956  0.03760704  0.06901354  0.48979419  0.07614187\n",
      "   0.03826186  0.07448437  0.04778051  0.04880406]\n",
      " [ 0.08417153  0.0350665   0.63726223  0.06288726  0.0219238   0.05488691\n",
      "   0.01487824  0.02397402  0.03358844  0.0313611 ]\n",
      " [ 0.05725878  0.06459378  0.10228348  0.09470691  0.17619433  0.04464163\n",
      "   0.20291615  0.12451746  0.04632493  0.08656258]\n",
      " [ 0.03797187  0.65563744  0.04438964  0.04596821  0.03562379  0.029439\n",
      "   0.04256799  0.03617762  0.03994217  0.03228227]\n",
      " [ 0.04256335  0.03812357  0.04341836  0.03159149  0.01857908  0.16333705\n",
      "   0.03491466  0.53413242  0.04351751  0.04982249]\n",
      " [ 0.0316229   0.07056773  0.02265301  0.06918578  0.44032529  0.16164859\n",
      "   0.03842909  0.05035671  0.07084052  0.04437044]\n",
      " [ 0.0426404   0.03242278  0.03355636  0.04068737  0.03632977  0.67798167\n",
      "   0.02984181  0.02005419  0.02991578  0.05656994]\n",
      " [ 0.0454827   0.60389823  0.0422536   0.04875087  0.04128454  0.04139388\n",
      "   0.04731131  0.04518469  0.03650567  0.04793433]\n",
      " [ 0.05510631  0.03506494  0.08142614  0.05567064  0.01971893  0.56514168\n",
      "   0.02704773  0.03968874  0.04763544  0.07349938]\n",
      " [ 0.06234635  0.0351773   0.03710486  0.03588083  0.02829998  0.04171779\n",
      "   0.0303154   0.03073616  0.02942422  0.66899711]\n",
      " [ 0.03321863  0.03978822  0.02414965  0.04053963  0.63938379  0.05875986\n",
      "   0.03185661  0.05984297  0.03644503  0.03601556]\n",
      " [ 0.07950704  0.07450007  0.02930737  0.05706374  0.07307969  0.46093845\n",
      "   0.02010811  0.04645478  0.09276761  0.06627315]\n",
      " [ 0.04348588  0.08309779  0.04315525  0.04210149  0.03740161  0.04447578\n",
      "   0.05324583  0.05245158  0.03020068  0.57038414]\n",
      " [ 0.04360589  0.06355982  0.04044429  0.09625041  0.19401793  0.09595839\n",
      "   0.31104931  0.03854537  0.05734168  0.05922697]\n",
      " [ 0.04545537  0.04420464  0.03368136  0.63630068  0.05879274  0.03615732\n",
      "   0.03777471  0.0277492   0.03895117  0.04093286]\n",
      " [ 0.04449958  0.05275962  0.03879315  0.04210602  0.04196815  0.03505794\n",
      "   0.03138756  0.04492973  0.63892895  0.0295693 ]\n",
      " [ 0.05050131  0.02273111  0.0356157   0.07278455  0.01576766  0.66546935\n",
      "   0.01969429  0.0466463   0.03495894  0.03583078]\n",
      " [ 0.01488134  0.01994967  0.01164901  0.01962121  0.01801441  0.77283895\n",
      "   0.04379562  0.02800157  0.02746033  0.04378781]\n",
      " [ 0.05225382  0.03032409  0.51251286  0.10814815  0.07057522  0.06504308\n",
      "   0.04579211  0.02062081  0.04546131  0.04926863]\n",
      " [ 0.05006113  0.59563446  0.04452758  0.04885577  0.04298525  0.04073581\n",
      "   0.03910492  0.03470029  0.04111528  0.0622795 ]\n",
      " [ 0.04137026  0.03554584  0.03721562  0.04794147  0.04179102  0.04102963\n",
      "   0.02997542  0.02930379  0.66109437  0.03473258]\n",
      " [ 0.08547193  0.13321924  0.02937857  0.03791426  0.05745905  0.4204067\n",
      "   0.03107343  0.03720075  0.06404826  0.10382784]\n",
      " [ 0.16604364  0.05552286  0.05934448  0.0451329   0.06053568  0.03419889\n",
      "   0.05057497  0.04002548  0.43975762  0.04886344]\n",
      " [ 0.03765225  0.04979381  0.03701947  0.03898913  0.05120884  0.03554866\n",
      "   0.0473086   0.03824645  0.03472577  0.62950701]\n",
      " [ 0.05367093  0.04620051  0.03485676  0.06189683  0.03360223  0.41996729\n",
      "   0.01916349  0.04446878  0.06332916  0.22284399]\n",
      " [ 0.53214866  0.11430266  0.03933434  0.05203122  0.04382075  0.03132591\n",
      "   0.0551986   0.03699435  0.04554541  0.0492981 ]\n",
      " [ 0.0268133   0.11896217  0.02732725  0.03578246  0.03841458  0.03802569\n",
      "   0.01921112  0.04924296  0.02523212  0.62098837]\n",
      " [ 0.51185155  0.1112837   0.05227304  0.06183903  0.04309281  0.03456664\n",
      "   0.03932083  0.03400704  0.05076655  0.06099888]\n",
      " [ 0.03998756  0.04797018  0.02672118  0.10720976  0.26356474  0.05133663\n",
      "   0.31298947  0.04596315  0.05278741  0.05146991]\n",
      " [ 0.04123645  0.03082821  0.03680291  0.02804523  0.054067    0.02482707\n",
      "   0.03064286  0.68295449  0.0356203   0.03497544]\n",
      " [ 0.04195496  0.04579908  0.03626471  0.0619428   0.05451739  0.03807533\n",
      "   0.03028177  0.04526163  0.60768795  0.03821435]\n",
      " [ 0.65405339  0.02786811  0.07845651  0.05419572  0.04884367  0.02774755\n",
      "   0.01693611  0.02799209  0.03786878  0.02603815]\n",
      " [ 0.60901326  0.06111849  0.03780714  0.07644542  0.0407172   0.03547186\n",
      "   0.025907    0.03623896  0.0376031   0.03967755]\n",
      " [ 0.03799452  0.06889556  0.04096466  0.06053648  0.05709792  0.03836118\n",
      "   0.03731802  0.04925427  0.56959599  0.0399814 ]\n",
      " [ 0.10927209  0.03379235  0.04259764  0.0576778   0.3860504   0.02770771\n",
      "   0.08219392  0.09553506  0.06614166  0.09903146]\n",
      " [ 0.08968136  0.18873394  0.05123383  0.06797856  0.04182442  0.04003757\n",
      "   0.03957646  0.057557    0.3519904   0.07138641]\n",
      " [ 0.0498791   0.03652132  0.04470316  0.05825034  0.04539463  0.49258146\n",
      "   0.03210315  0.13880748  0.04944479  0.05231464]\n",
      " [ 0.04342894  0.03964194  0.02768825  0.09897294  0.02694958  0.54004306\n",
      "   0.02637993  0.02414838  0.03888685  0.13386022]\n",
      " [ 0.03145622  0.04555301  0.03702102  0.03467948  0.52102423  0.02498301\n",
      "   0.05142386  0.18432257  0.04107316  0.02846346]\n",
      " [ 0.06291414  0.04102689  0.03434988  0.63745815  0.03403561  0.06711273\n",
      "   0.03007477  0.02229456  0.03713092  0.03360246]\n",
      " [ 0.05002834  0.58207977  0.04770267  0.04250322  0.03338323  0.02765835\n",
      "   0.04328851  0.04236452  0.03041447  0.10057698]\n",
      " [ 0.01455886  0.04475813  0.02467631  0.02168323  0.03378167  0.02295929\n",
      "   0.03788391  0.03331819  0.02097327  0.7454071 ]\n",
      " [ 0.05431879  0.0691152   0.03770303  0.04906783  0.04840453  0.04342138\n",
      "   0.03460615  0.04652298  0.58477432  0.03206578]\n",
      " [ 0.60215867  0.04915676  0.04232513  0.05070034  0.05398423  0.03258827\n",
      "   0.04314103  0.04498132  0.03996807  0.04099607]\n",
      " [ 0.03745621  0.03557528  0.63968921  0.02928063  0.02983806  0.05313154\n",
      "   0.04537899  0.04489206  0.03997431  0.04478363]\n",
      " [ 0.03853661  0.05229563  0.03154774  0.04450661  0.04153082  0.04248921\n",
      "   0.56862676  0.05022961  0.06533368  0.06490335]\n",
      " [ 0.59384346  0.06407416  0.04093755  0.06192157  0.06072332  0.03602515\n",
      "   0.02787158  0.04061888  0.03874725  0.0352371 ]\n",
      " [ 0.05686723  0.04394571  0.03260018  0.06609413  0.05032217  0.03655441\n",
      "   0.04089709  0.05347693  0.57675344  0.0424887 ]\n",
      " [ 0.07302006  0.13054621  0.09295022  0.05393138  0.06608121  0.05461724\n",
      "   0.05397145  0.36745524  0.06861071  0.03881633]\n",
      " [ 0.22359264  0.06773818  0.07759742  0.04624795  0.06989177  0.04673918\n",
      "   0.04371817  0.0546333   0.17039654  0.19944492]]\n"
     ]
    }
   ],
   "source": [
    "_y = model.predict(next(batch)[0])  # << add your own voice here\n",
    "print (_y) "
   ]
  },
  {
   "cell_type": "code",
   "execution_count": 14,
   "metadata": {},
   "outputs": [
    {
     "name": "stdout",
     "output_type": "stream",
     "text": [
      "loaded batch of 2160 train_files, 240 test_files\n"
     ]
    },
    {
     "data": {
      "text/plain": [
       "(20, 80)"
      ]
     },
     "execution_count": 14,
     "metadata": {},
     "output_type": "execute_result"
    }
   ],
   "source": [
    "next(batch)[0][0].shape"
   ]
  }
 ],
 "metadata": {
  "kernelspec": {
   "display_name": "Python 3",
   "language": "python",
   "name": "python3"
  },
  "language_info": {
   "codemirror_mode": {
    "name": "ipython",
    "version": 3
   },
   "file_extension": ".py",
   "mimetype": "text/x-python",
   "name": "python",
   "nbconvert_exporter": "python",
   "pygments_lexer": "ipython3",
   "version": "3.6.0"
  }
 },
 "nbformat": 4,
 "nbformat_minor": 2
}
